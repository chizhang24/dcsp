{
 "cells": [
  {
   "cell_type": "markdown",
   "metadata": {},
   "source": [
    "# Table 1\n",
    "A comparison between direct and divide and conquer strategy to load an-dimensional real vector into a quantum computer."
   ]
  },
  {
   "cell_type": "code",
   "execution_count": null,
   "metadata": {},
   "outputs": [],
   "source": [
    "from encoding import Encoding\n",
    "from numpy.random import rand, seed \n",
    "from numpy.linalg import norm\n",
    "from qiskit import ClassicalRegister, QuantumCircuit\n",
    "from qiskit.compiler import transpile\n",
    "import qiskit\n",
    "import sys"
   ]
  },
  {
   "cell_type": "code",
   "execution_count": null,
   "metadata": {},
   "outputs": [],
   "source": [
    "print('qiskit version: ', qiskit.__version__)\n",
    "print ('python version: ', sys.version)"
   ]
  },
  {
   "cell_type": "code",
   "execution_count": 4,
   "metadata": {},
   "outputs": [
    {
     "name": "stdout",
     "output_type": "stream",
     "text": [
      "N\t dc d\t dc w \t qi d \t qi w\n",
      "4 \t 12 \t 4 \t 5 \t 3 \t 5 \t 3\n",
      "8 \t 31 \t 8 \t 18 \t 4 \t 53 \t 4\n",
      "16 \t 58 \t 16 \t 46 \t 5 \t 277 \t 5\n",
      "32 \t 93 \t 32 \t 106 \t 6 \t 790 \t 6\n",
      "64 \t 136 \t 64 \t 224 \t 7 \t 3110 \t 7\n",
      "128 \t 187 \t 128 \t 482 \t 8\n",
      "256 \t 246 \t 256 \t 990 \t 9\n",
      "512 \t 313 \t 512 \t 1974 \t 10\n",
      "1024 \t 388 \t 1024 \t 4054 \t 11\n"
     ]
    }
   ],
   "source": [
    "k = 2\n",
    "print('N\\t dc d\\t dc w \\t qi d \\t qi w', )\n",
    "while k <= 10:\n",
    "    # print(k)\n",
    "    input_vector = 2 * rand(2**k) - 1\n",
    "    input_vector = input_vector / norm(input_vector)\n",
    "    \n",
    "    dc_encode = Encoding(input_vector, 'dc_amplitude_encoding')\n",
    "    dc_circuit = dc_encode.qcircuit\n",
    "    dc_qregister = dc_encode.quantum_data\n",
    "    dc_circuit_output = ClassicalRegister(1)\n",
    "    dc_circuit.add_register(dc_circuit_output)\n",
    "    # print(circuit.depth())\n",
    "    # print(circuit.draw())\n",
    "    a = transpile(dc_circuit,basis_gates=['u1', 'u2', 'u3', 'cx'], optimization_level=3)\n",
    "    # print('*', a.depth(), a.width())\n",
    "    \n",
    "    if k <= 6:\n",
    "        amp_encode = Encoding(input_vector, 'amplitude_encoding')\n",
    "        amp_circuit = amp_encode.qcircuit\n",
    "        amp_qregister = amp_encode.quantum_data\n",
    "        amp_circuit_output = ClassicalRegister(1)\n",
    "        amp_circuit.add_register(amp_circuit_output)\n",
    "        c = transpile(amp_circuit,basis_gates=['u1', 'u2', 'u3', 'cx'], optimization_level=3)\n",
    "\n",
    "    \n",
    "    qiskit_circuit = QuantumCircuit(k, 1, name=\"initializer_circ\")\n",
    "    qiskit_circuit.initialize(input_vector, [x for x in range(k)])\n",
    "    b = transpile(qiskit_circuit,basis_gates=['u1', 'u2', 'u3', 'cx'], optimization_level=3)\n",
    "\n",
    "    if k <= 6:\n",
    "        print(2**k,'\\t', a.depth(), '\\t', a.width(), '\\t', b.depth(), '\\t', b.width(), '\\t', c.depth(), '\\t', c.width())\n",
    "    else:\n",
    "        print(2**k,'\\t', a.depth(), '\\t', a.width(), '\\t', b.depth(), '\\t', b.width())\n",
    "    k = k + 1"
   ]
  }
 ],
 "metadata": {
  "kernelspec": {
   "display_name": "Python 3",
   "language": "python",
   "name": "python3"
  },
  "language_info": {
   "codemirror_mode": {
    "name": "ipython",
    "version": 3
   },
   "file_extension": ".py",
   "mimetype": "text/x-python",
   "name": "python",
   "nbconvert_exporter": "python",
   "pygments_lexer": "ipython3",
   "version": "3.12.3"
  }
 },
 "nbformat": 4,
 "nbformat_minor": 4
}
